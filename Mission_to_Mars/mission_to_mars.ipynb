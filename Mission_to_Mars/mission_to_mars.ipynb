{
 "cells": [
  {
   "cell_type": "code",
   "execution_count": 217,
   "metadata": {},
   "outputs": [],
   "source": [
    "# Our Notebook."
   ]
  },
  {
   "cell_type": "code",
   "execution_count": 218,
   "metadata": {},
   "outputs": [],
   "source": [
    "import os\n",
    "from bs4 import BeautifulSoup as bs\n",
    "import pandas as pd\n",
    "from splinter import Browser"
   ]
  },
  {
   "cell_type": "code",
   "execution_count": 219,
   "metadata": {},
   "outputs": [],
   "source": [
    "executable_path = {'executable_path': 'chromedriver.exe'}\n",
    "browser = Browser('chrome', **executable_path, headless=False)"
   ]
  },
  {
   "cell_type": "code",
   "execution_count": 220,
   "metadata": {},
   "outputs": [],
   "source": [
    "nasa_url = 'https://mars.nasa.gov/news/'\n",
    "browser.visit(nasa_url)"
   ]
  },
  {
   "cell_type": "code",
   "execution_count": 221,
   "metadata": {},
   "outputs": [],
   "source": [
    "html = browser.html\n",
    "soupy = bs(html, 'html.parser')\n",
    "story = soupy.find(class_='list_text')"
   ]
  },
  {
   "cell_type": "code",
   "execution_count": 222,
   "metadata": {},
   "outputs": [
    {
     "output_type": "execute_result",
     "data": {
      "text/plain": "<div class=\"list_text\"><div class=\"list_date\">August 24, 2020</div><div class=\"content_title\"><a href=\"/news/8744/nasa-engineers-checking-insights-weather-sensors/\" target=\"_self\">NASA Engineers Checking InSight's Weather Sensors</a></div><div class=\"article_teaser_body\">An electronics issue is suspected to be preventing the sensors from sharing their data about Mars weather with the spacecraft.</div></div>"
     },
     "metadata": {},
     "execution_count": 222
    }
   ],
   "source": [
    "story"
   ]
  },
  {
   "cell_type": "code",
   "execution_count": 223,
   "metadata": {
    "tags": []
   },
   "outputs": [
    {
     "output_type": "stream",
     "name": "stdout",
     "text": "/news/8744/nasa-engineers-checking-insights-weather-sensors/\nNASA Engineers Checking InSight's Weather Sensors\n"
    }
   ],
   "source": [
    "content_title = story.find(class_='content_title')\n",
    "link = content_title.find('a')\n",
    "href = link['href']\n",
    "href_text = content_title.find('a', href=href, target=\"_self\").text\n",
    "print(href)\n",
    "print(href_text)"
   ]
  },
  {
   "cell_type": "code",
   "execution_count": 224,
   "metadata": {
    "tags": []
   },
   "outputs": [
    {
     "output_type": "stream",
     "name": "stdout",
     "text": "https://mars.nasa.gov/news/8744/nasa-engineers-checking-insights-weather-sensors/\n"
    }
   ],
   "source": [
    "# To scrape the paragraph from the article itself, we have to visit\n",
    "# the page. We can construct the appropriate url by adding the\n",
    "# href link we got to the basic Mars website.\n",
    "basic_url = 'https://mars.nasa.gov'\n",
    "article_url = basic_url + href\n",
    "print(article_url)"
   ]
  },
  {
   "cell_type": "code",
   "execution_count": 52,
   "metadata": {},
   "outputs": [],
   "source": [
    "# It's now time to visit the article page.\n",
    "browser.visit(article_url)"
   ]
  },
  {
   "cell_type": "code",
   "execution_count": 53,
   "metadata": {},
   "outputs": [],
   "source": [
    "html_another = browser.html\n",
    "soupy_another = bs(html_another, 'html.parser')\n",
    "story_another = soupy_another.find(class_='wysiwyg_content')"
   ]
  },
  {
   "cell_type": "code",
   "execution_count": 55,
   "metadata": {
    "tags": []
   },
   "outputs": [
    {
     "output_type": "stream",
     "name": "stdout",
     "text": "<div class=\"wysiwyg_content\">\n<hr/>\n<p><i>A crisply rendered web application can show you where the agency's Mars 2020 mission is right now as it makes its way to the Red Planet for a Feb. 18, 2021, landing.</i></p>\n<hr/>\n<p>The last time we saw NASA's Mars 2020 Perseverance rover mission was on July 30, 2020, as it disappeared into the black of deep space on a trajectory for Mars. But with NASA's <a href=\"https://eyes.nasa.gov/apps/orrery/#/sc_perseverance\" target=\"_blank\">Eyes on the Solar System</a>, you can follow in real time as humanity's most sophisticated rover – and the Ingenuity Mars Helicopter traveling with it – treks millions of miles over the next six months to <a href=\"/news/8549/nasas-mars-2020-will-hunt-for-microscopic-fossils/\">Jezero Crater</a>.</p>\n<p>\"Eyes on the Solar System visualizes the same trajectory data that the navigation team uses to plot Perseverance's course to Mars,\" said Fernando Abilleira, the Mars 2020 mission design and navigation manager at NASA's Jet Propulsion Laboratory in Southern California. \"If you want to follow along with us on our journey, that's the place to be.\"</p>\n<p><span></span></p><figure class=\"column-width embedded_video video_player_container\">\n<div class=\"video_wrapper\">\n<iframe allowfullscreen=\"\" frameborder=\"0\" height=\"400\" scrolling=\"no\" src=\"https://eyes.nasa.gov/apps/orrery/#/sc_perseverance\" width=\"100%\"></iframe>\n</div>\n<figcaption>\n<b>Eyes on Perseverance</b><span>: Give the Mars 2020 Perseverance spacecraft a spin. Fully interactive, </span><a href=\"https://eyes.nasa.gov/apps/orrery/#/home\" target=\"_blank\">Eyes on the Solar System</a><span> doesn't just let you track it in real time as it travels to the Red Planet. Dozens of controls on pop-up menus allow you to customize not just what you see – from faraway to right \"on board.\" Credit: NASA/JPL-Caltech. </span><a href=\"https://eyes.nasa.gov/apps/orrery/#/sc_perseverance\" target=\"_blank\">View the full experience ›</a><span>\n</span></figcaption>\n</figure><p></p>\n<p>Eyes doesn't just let you see the distance between the Red Planet and the spacecraft at this very moment. You can also fly formation with Mars 2020 or check the relative velocity between Mars and Earth or, say, the dwarf planet Pluto.</p>\n<p>\"With all our orbital assets circling Mars as well as Curiosity and InSight on its surface, there is new data and imagery coming in all the time about the Red Planet,\" said Jon Nelson, visualization technology and applications development supervisor at JPL. \"Essentially, if you haven't seen Mars lately through Eyes on the Solar System, you haven't seen Mars.\"</p>\n<p>Dozens of controls on pop-up menus allow you to customize not just what you see – from faraway to right \"on board\" a spacecraft – but also how you see it: Choose the 3D mode, and all you need is a pair of red-cyan anaglyph glasses for a more immersive experience.</p>\n<p>You don't have to stop at Mars, either. You can travel throughout the solar system and even through time. The website not only uses real-time data and imagery from NASA's fleet of spacecraft, it's also populated with NASA data going back to 1950 and projected to 2050. Location, motion, and appearance are based on predicted and reconstructed mission data.</p>\n<p>While you're exploring, take a deeper dive into our home planet with <a href=\"https://eyes.nasa.gov/apps/earth/#/\" target=\"_blank\">Eyes on the Earth</a> and travel to distant worlds with <a href=\"https://eyes.nasa.gov/apps/exo/#/\" target=\"_blank\">Eyes on ExoPlanets</a>.</p>\n<p><b>More About the Mission</b></p>\n<p>Managed for NASA by JPL, a division of Caltech in Pasadena, California, the Mars 2020 Perseverance rover is part of a larger program that includes missions to the Moon as a way to prepare for human exploration of the Red Planet. Charged with returning astronauts to the Moon by 2024, NASA will establish a sustained human presence on and around the Moon by 2028 through NASA's <a href=\"https://www.nasa.gov/specials/artemis/\" target=\"_blank\">Artemis lunar exploration plans</a>.</p>\n<p>For more information about the mission, go to:</p>\n<p style=\"text-align:center\"><a href=\"/mars2020/\"><b>mars.nasa.gov/mars2020/</b></a></p>\n<p>For more about NASA's Moon to Mars plans, visit:</p>\n<p style=\"text-align:center\"><a href=\"https://www.nasa.gov/topics/moon-to-mars\" target=\"_blank\"><b>nasa.gov/topics/moon-to-mars</b></a></p>\n<p><b>News Media Contacts</b><br/>\nDC Agle / Andrew Good<br/>\nJet Propulsion Laboratory, Pasadena, Calif.<br/>\n818-393-9011 / 818-393-2433<br/>\n<a href=\"mailto:david.c.agle@jpl.nasa.gov\">david.c.agle@jpl.nasa.gov</a> / <a href=\"mailto:andrew.c.good@jpl.nasa.gov\">andrew.c.good@jpl.nasa.gov</a></p>\n<p>Alana Johnson / Grey Hautaluoma<br/>\nNASA Headquarters, Washington<br/>\n202-672-4780 / 202-358-0668<br/>\n<a href=\"mailto:alana.r.johnson@nasa.gov\">alana.r.johnson@nasa.gov</a> / <a href=\"mailto:grey.hautaluoma-1@nasa.gov\">grey.hautaluoma-1@nasa.gov</a></p>\n</div>\n"
    }
   ],
   "source": [
    "print(story_another)"
   ]
  },
  {
   "cell_type": "code",
   "execution_count": 59,
   "metadata": {
    "tags": []
   },
   "outputs": [
    {
     "output_type": "stream",
     "name": "stdout",
     "text": "The last time we saw NASA's Mars 2020 Perseverance rover mission was on July 30, 2020, as it disappeared into the black of deep space on a trajectory for Mars. But with NASA's Eyes on the Solar System, you can follow in real time as humanity's most sophisticated rover – and the Ingenuity Mars Helicopter traveling with it – treks millions of miles over the next six months to Jezero Crater.\n"
    }
   ],
   "source": [
    "# Since the first paragraph of this article is technically just the\n",
    "# italicized description, we will need to scrape all of the paragraphs\n",
    "# and only focus on the \"second\" one.\n",
    "paragraphs = story_another.find_all('p')\n",
    "first_paragraph = paragraphs[1].text\n",
    "print(first_paragraph)"
   ]
  },
  {
   "cell_type": "code",
   "execution_count": 60,
   "metadata": {
    "tags": []
   },
   "outputs": [
    {
     "output_type": "stream",
     "name": "stdout",
     "text": "https://www.jpl.nasa.gov/spaceimages/?search=&category=Mars#submit\n"
    }
   ],
   "source": [
    "# We will now set up the url components for hte JPL section.\n",
    "jpl_base = 'https://www.jpl.nasa.gov'\n",
    "mars_image_extension = '/spaceimages/?search=&category=Mars#submit'\n",
    "mars_images = jpl_base + mars_image_extension\n",
    "print(mars_images)"
   ]
  },
  {
   "cell_type": "code",
   "execution_count": 144,
   "metadata": {},
   "outputs": [],
   "source": [
    "browser.visit(mars_images)\n",
    "html_jpl = browser.html\n",
    "soupy_jpl = bs(html_jpl, 'html.parser')\n",
    "bg_image = soupy_jpl.find('article', class_='carousel_item')"
   ]
  },
  {
   "cell_type": "code",
   "execution_count": 157,
   "metadata": {
    "tags": []
   },
   "outputs": [
    {
     "output_type": "stream",
     "name": "stdout",
     "text": "/spaceimages/images/wallpaper/PIA24072-640x350.jpg\n"
    }
   ],
   "source": [
    "# For the first image in the grid list...\n",
    "page_images = soupy_jpl.find_all('img')\n",
    "# To actually get to the first image, we have to skip the stylistic images that\n",
    "# come before the grid list.\n",
    "first_image = page_images[5]['src']\n",
    "print(first_image)"
   ]
  },
  {
   "cell_type": "code",
   "execution_count": 156,
   "metadata": {
    "tags": []
   },
   "outputs": [
    {
     "output_type": "stream",
     "name": "stdout",
     "text": "/spaceimages/images/wallpaper/PIA17462-1920x1200.jpg\n"
    }
   ],
   "source": [
    "# For the featured background image...\n",
    "featured_image_url = bg_image['style'].split(\"('\", 1)[1].split(\"')\")[0]\n",
    "print(featured_image_url)"
   ]
  },
  {
   "cell_type": "code",
   "execution_count": 158,
   "metadata": {},
   "outputs": [],
   "source": [
    "# Time to scrape Mars Facts with Pandas.\n",
    "mars_facts_url = 'https://space-facts.com/mars/'\n",
    "table_facts = pd.read_html(mars_facts_url)"
   ]
  },
  {
   "cell_type": "code",
   "execution_count": 161,
   "metadata": {},
   "outputs": [
    {
     "output_type": "execute_result",
     "data": {
      "text/plain": "[                      0                              1\n 0  Equatorial Diameter:                       6,792 km\n 1       Polar Diameter:                       6,752 km\n 2                 Mass:  6.39 × 10^23 kg (0.11 Earths)\n 3                Moons:            2 (Phobos & Deimos)\n 4       Orbit Distance:       227,943,824 km (1.38 AU)\n 5         Orbit Period:           687 days (1.9 years)\n 6  Surface Temperature:                   -87 to -5 °C\n 7         First Record:              2nd millennium BC\n 8          Recorded By:           Egyptian astronomers,\n   Mars - Earth Comparison             Mars            Earth\n 0               Diameter:         6,779 km        12,742 km\n 1                   Mass:  6.39 × 10^23 kg  5.97 × 10^24 kg\n 2                  Moons:                2                1\n 3      Distance from Sun:   227,943,824 km   149,598,262 km\n 4         Length of Year:   687 Earth days      365.24 days\n 5            Temperature:     -87 to -5 °C      -88 to 58°C,\n                       0                              1\n 0  Equatorial Diameter:                       6,792 km\n 1       Polar Diameter:                       6,752 km\n 2                 Mass:  6.39 × 10^23 kg (0.11 Earths)\n 3                Moons:            2 (Phobos & Deimos)\n 4       Orbit Distance:       227,943,824 km (1.38 AU)\n 5         Orbit Period:           687 days (1.9 years)\n 6  Surface Temperature:                   -87 to -5 °C\n 7         First Record:              2nd millennium BC\n 8          Recorded By:           Egyptian astronomers]"
     },
     "metadata": {},
     "execution_count": 161
    }
   ],
   "source": [
    "table_facts"
   ]
  },
  {
   "cell_type": "code",
   "execution_count": 162,
   "metadata": {},
   "outputs": [
    {
     "output_type": "execute_result",
     "data": {
      "text/plain": "                      0                              1\n0  Equatorial Diameter:                       6,792 km\n1       Polar Diameter:                       6,752 km\n2                 Mass:  6.39 × 10^23 kg (0.11 Earths)\n3                Moons:            2 (Phobos & Deimos)\n4       Orbit Distance:       227,943,824 km (1.38 AU)\n5         Orbit Period:           687 days (1.9 years)\n6  Surface Temperature:                   -87 to -5 °C\n7         First Record:              2nd millennium BC\n8          Recorded By:           Egyptian astronomers",
      "text/html": "<div>\n<style scoped>\n    .dataframe tbody tr th:only-of-type {\n        vertical-align: middle;\n    }\n\n    .dataframe tbody tr th {\n        vertical-align: top;\n    }\n\n    .dataframe thead th {\n        text-align: right;\n    }\n</style>\n<table border=\"1\" class=\"dataframe\">\n  <thead>\n    <tr style=\"text-align: right;\">\n      <th></th>\n      <th>0</th>\n      <th>1</th>\n    </tr>\n  </thead>\n  <tbody>\n    <tr>\n      <th>0</th>\n      <td>Equatorial Diameter:</td>\n      <td>6,792 km</td>\n    </tr>\n    <tr>\n      <th>1</th>\n      <td>Polar Diameter:</td>\n      <td>6,752 km</td>\n    </tr>\n    <tr>\n      <th>2</th>\n      <td>Mass:</td>\n      <td>6.39 × 10^23 kg (0.11 Earths)</td>\n    </tr>\n    <tr>\n      <th>3</th>\n      <td>Moons:</td>\n      <td>2 (Phobos &amp; Deimos)</td>\n    </tr>\n    <tr>\n      <th>4</th>\n      <td>Orbit Distance:</td>\n      <td>227,943,824 km (1.38 AU)</td>\n    </tr>\n    <tr>\n      <th>5</th>\n      <td>Orbit Period:</td>\n      <td>687 days (1.9 years)</td>\n    </tr>\n    <tr>\n      <th>6</th>\n      <td>Surface Temperature:</td>\n      <td>-87 to -5 °C</td>\n    </tr>\n    <tr>\n      <th>7</th>\n      <td>First Record:</td>\n      <td>2nd millennium BC</td>\n    </tr>\n    <tr>\n      <th>8</th>\n      <td>Recorded By:</td>\n      <td>Egyptian astronomers</td>\n    </tr>\n  </tbody>\n</table>\n</div>"
     },
     "metadata": {},
     "execution_count": 162
    }
   ],
   "source": [
    "# We only want that first table, so we'll define our table as such.\n",
    "facts_table = table_facts[0]\n",
    "facts_table"
   ]
  },
  {
   "cell_type": "code",
   "execution_count": 165,
   "metadata": {},
   "outputs": [
    {
     "output_type": "execute_result",
     "data": {
      "text/plain": "                                                   \n                                                   \nEquatorial Diameter:                       6,792 km\nPolar Diameter:                            6,752 km\nMass:                 6.39 × 10^23 kg (0.11 Earths)\nMoons:                          2 (Phobos & Deimos)\nOrbit Distance:            227,943,824 km (1.38 AU)\nOrbit Period:                  687 days (1.9 years)\nSurface Temperature:                   -87 to -5 °C\nFirst Record:                     2nd millennium BC\nRecorded By:                   Egyptian astronomers",
      "text/html": "<div>\n<style scoped>\n    .dataframe tbody tr th:only-of-type {\n        vertical-align: middle;\n    }\n\n    .dataframe tbody tr th {\n        vertical-align: top;\n    }\n\n    .dataframe thead th {\n        text-align: right;\n    }\n</style>\n<table border=\"1\" class=\"dataframe\">\n  <thead>\n    <tr style=\"text-align: right;\">\n      <th></th>\n      <th></th>\n    </tr>\n    <tr>\n      <th></th>\n      <th></th>\n    </tr>\n  </thead>\n  <tbody>\n    <tr>\n      <th>Equatorial Diameter:</th>\n      <td>6,792 km</td>\n    </tr>\n    <tr>\n      <th>Polar Diameter:</th>\n      <td>6,752 km</td>\n    </tr>\n    <tr>\n      <th>Mass:</th>\n      <td>6.39 × 10^23 kg (0.11 Earths)</td>\n    </tr>\n    <tr>\n      <th>Moons:</th>\n      <td>2 (Phobos &amp; Deimos)</td>\n    </tr>\n    <tr>\n      <th>Orbit Distance:</th>\n      <td>227,943,824 km (1.38 AU)</td>\n    </tr>\n    <tr>\n      <th>Orbit Period:</th>\n      <td>687 days (1.9 years)</td>\n    </tr>\n    <tr>\n      <th>Surface Temperature:</th>\n      <td>-87 to -5 °C</td>\n    </tr>\n    <tr>\n      <th>First Record:</th>\n      <td>2nd millennium BC</td>\n    </tr>\n    <tr>\n      <th>Recorded By:</th>\n      <td>Egyptian astronomers</td>\n    </tr>\n  </tbody>\n</table>\n</div>"
     },
     "metadata": {},
     "execution_count": 165
    }
   ],
   "source": [
    "# I don't care about the column names, so I'll make them blank.\n",
    "# Additionally, I'll set the index to be the first column.\n",
    "facts_table.columns = ['', 'answers']\n",
    "facts_table.set_index('', inplace=True)\n",
    "facts_table.columns = ['']\n",
    "facts_table"
   ]
  },
  {
   "cell_type": "code",
   "execution_count": 210,
   "metadata": {},
   "outputs": [
    {
     "output_type": "execute_result",
     "data": {
      "text/plain": "'<table border=\"1\" class=\"dataframe\">  <thead>    <tr style=\"text-align: right;\">      <th></th>      <th></th>    </tr>    <tr>      <th></th>      <th></th>    </tr>  </thead>  <tbody>    <tr>      <th>Equatorial Diameter:</th>      <td>6,792 km</td>    </tr>    <tr>      <th>Polar Diameter:</th>      <td>6,752 km</td>    </tr>    <tr>      <th>Mass:</th>      <td>6.39 × 10^23 kg (0.11 Earths)</td>    </tr>    <tr>      <th>Moons:</th>      <td>2 (Phobos &amp; Deimos)</td>    </tr>    <tr>      <th>Orbit Distance:</th>      <td>227,943,824 km (1.38 AU)</td>    </tr>    <tr>      <th>Orbit Period:</th>      <td>687 days (1.9 years)</td>    </tr>    <tr>      <th>Surface Temperature:</th>      <td>-87 to -5 °C</td>    </tr>    <tr>      <th>First Record:</th>      <td>2nd millennium BC</td>    </tr>    <tr>      <th>Recorded By:</th>      <td>Egyptian astronomers</td>    </tr>  </tbody></table>'"
     },
     "metadata": {},
     "execution_count": 210
    }
   ],
   "source": [
    "# We now want the HTML string.\n",
    "html_version = facts_table.to_html()\n",
    "html_version = html_version.replace('\\n', '')\n",
    "html_version"
   ]
  },
  {
   "cell_type": "code",
   "execution_count": 178,
   "metadata": {
    "tags": []
   },
   "outputs": [
    {
     "output_type": "stream",
     "name": "stdout",
     "text": "<div class=\"item\"><a class=\"itemLink product-item\" href=\"/search/map/Mars/Viking/schiaparelli_enhanced\"><img alt=\"Schiaparelli Hemisphere Enhanced thumbnail\" class=\"thumb\" src=\"/cache/images/08eac6e22c07fb1fe72223a79252de20_schiaparelli_enhanced.tif_thumb.png\"/></a><div class=\"description\"><a class=\"itemLink product-item\" href=\"/search/map/Mars/Viking/schiaparelli_enhanced\"><h3>Schiaparelli Hemisphere Enhanced</h3></a><span class=\"subtitle\" style=\"float:left\">image/tiff 35 MB</span><span class=\"pubDate\" style=\"float:right\"></span><br/><p>Mosaic of the Schiaparelli hemisphere of Mars projected into point perspective, a view similar to that which one would see from a spacecraft. The images were acquired in 1980 during early northern…</p></div> <!-- end description --></div>\n"
    }
   ],
   "source": [
    "# Now for the hemispheres site...\n",
    "hemispheres_url = 'https://astrogeology.usgs.gov/search/results?q=hemisphere+enhanced&k1=target&v1=Mars'\n",
    "browser.visit(hemispheres_url)\n",
    "html_hemispheres = browser.html\n",
    "soupy_hemispheres = bs(html_hemispheres, 'html.parser')\n",
    "\n",
    "# The four hemispheres are in the collapsible results class, so we'll go there.\n",
    "results = soupy_hemispheres.find(class_='collapsible results')\n",
    "hemispheres_list = results.find_all(class_='item')\n",
    "# We should get a list of four items.\n",
    "print(hemispheres_list[1])"
   ]
  },
  {
   "cell_type": "code",
   "execution_count": 189,
   "metadata": {
    "tags": []
   },
   "outputs": [],
   "source": [
    "# We'll create an empty list to store the image urls.\n",
    "image_links = []\n",
    "\n",
    "# We need to get the image urls from each of these list items, so a for loop is in order.\n",
    "for hemisphere in hemispheres_list:\n",
    "    link_location = hemisphere.find('a')\n",
    "    hemisphere_extension = link_location['href']\n",
    "    hemisphere_page = 'https://astrogeology.usgs.gov' + hemisphere_extension\n",
    "    # We will now have to visit the url we just spliced together.\n",
    "    browser.visit(hemisphere_page)\n",
    "    html_hemi = browser.html\n",
    "    soupy_hemi = bs(html_hemi, 'html.parser')\n",
    "    # On each hemisphere page, we need to first go to li.\n",
    "    # Since it's the sample we want, we can just use the regular find function.\n",
    "    list_item = soupy_hemi.find('li')\n",
    "    destination = list_item.find('a')\n",
    "    image_links.append(destination['href'])"
   ]
  },
  {
   "cell_type": "code",
   "execution_count": 192,
   "metadata": {
    "tags": []
   },
   "outputs": [
    {
     "output_type": "execute_result",
     "data": {
      "text/plain": "['https://astropedia.astrogeology.usgs.gov/download/Mars/Viking/cerberus_enhanced.tif/full.jpg',\n 'https://astropedia.astrogeology.usgs.gov/download/Mars/Viking/schiaparelli_enhanced.tif/full.jpg',\n 'https://astropedia.astrogeology.usgs.gov/download/Mars/Viking/syrtis_major_enhanced.tif/full.jpg',\n 'https://astropedia.astrogeology.usgs.gov/download/Mars/Viking/valles_marineris_enhanced.tif/full.jpg']"
     },
     "metadata": {},
     "execution_count": 192
    }
   ],
   "source": [
    "image_links"
   ]
  },
  {
   "cell_type": "code",
   "execution_count": 193,
   "metadata": {},
   "outputs": [],
   "source": [
    "# Since we're going to ultimately store these links in a dictionary, we'll create\n",
    "# a list includes the corresponding hemisphere names.\n",
    "hemisphere_keys = ['Cerebus', 'Sciaparelli', 'Syrtis Major', 'Valles Marineris']"
   ]
  },
  {
   "cell_type": "code",
   "execution_count": 215,
   "metadata": {},
   "outputs": [
    {
     "output_type": "execute_result",
     "data": {
      "text/plain": "{'Cerebus': 'https://astropedia.astrogeology.usgs.gov/download/Mars/Viking/cerberus_enhanced.tif/full.jpg',\n 'Sciaparelli': 'https://astropedia.astrogeology.usgs.gov/download/Mars/Viking/schiaparelli_enhanced.tif/full.jpg',\n 'Syrtis Major': 'https://astropedia.astrogeology.usgs.gov/download/Mars/Viking/syrtis_major_enhanced.tif/full.jpg',\n 'Valles Marineris': 'https://astropedia.astrogeology.usgs.gov/download/Mars/Viking/valles_marineris_enhanced.tif/full.jpg'}"
     },
     "metadata": {},
     "execution_count": 215
    }
   ],
   "source": [
    "# We will not create the empty dictionary.\n",
    "hemisphere_image_dictionary = {}\n",
    "for x in range(0, len(image_links)):   \n",
    "    hemisphere_image_dictionary.update( {hemisphere_keys[x]: image_links[x]})\n",
    "hemisphere_image_dictionary"
   ]
  },
  {
   "cell_type": "code",
   "execution_count": null,
   "metadata": {},
   "outputs": [],
   "source": [
    "# This quits the browser.\n",
    "browser.quit()"
   ]
  }
 ],
 "metadata": {
  "anaconda-cloud": {},
  "kernel_info": {
   "name": "python3"
  },
  "kernelspec": {
   "display_name": "Python 3",
   "language": "python",
   "name": "python3"
  },
  "language_info": {
   "codemirror_mode": {
    "name": "ipython",
    "version": 3
   },
   "file_extension": ".py",
   "mimetype": "text/x-python",
   "name": "python",
   "nbconvert_exporter": "python",
   "pygments_lexer": "ipython3",
   "version": "3.6.10-final"
  },
  "latex_envs": {
   "LaTeX_envs_menu_present": true,
   "autoclose": false,
   "autocomplete": true,
   "bibliofile": "biblio.bib",
   "cite_by": "apalike",
   "current_citInitial": 1,
   "eqLabelWithNumbers": true,
   "eqNumInitial": 1,
   "hotkeys": {
    "equation": "Ctrl-E",
    "itemize": "Ctrl-I"
   },
   "labels_anchors": false,
   "latex_user_defs": false,
   "report_style_numbering": false,
   "user_envs_cfg": false
  },
  "nteract": {
   "version": "0.8.4"
  }
 },
 "nbformat": 4,
 "nbformat_minor": 1
}